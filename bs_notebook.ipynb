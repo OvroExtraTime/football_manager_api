{
 "cells": [
  {
   "cell_type": "code",
   "execution_count": 60,
   "metadata": {},
   "outputs": [],
   "source": [
    "from bs4 import BeautifulSoup as bs\n",
    "import requests\n",
    "url = 'https://fmdataba.com/19/p/1165/lionel-messi/'"
   ]
  },
  {
   "cell_type": "code",
   "execution_count": 80,
   "metadata": {
    "scrolled": true
   },
   "outputs": [
    {
     "name": "stdout",
     "output_type": "stream",
     "text": [
      "Found the URL: https://fmdataba.com/19/p/1170/luis-suarez/\n",
      "Found the URL: https://fmdataba.com/19/p/1154/philippe-coutinho/\n",
      "Found the URL: https://fmdataba.com/19/p/1156/ousmane-dembele/\n",
      "Found the URL: https://fmdataba.com/19/p/1134/sergio-busquets/\n",
      "Found the URL: https://fmdataba.com/19/p/1112/gerard-pique/\n",
      "Found the URL: https://fmdataba.com/19/p/1140/ivan-rakitic/\n",
      "Found the URL: https://fmdataba.com/19/p/1124/sergi-roberto/\n"
     ]
    }
   ],
   "source": [
    "import pandas as pd\n",
    "\n",
    "r = requests.get('https://fmdataba.com/19/p/1165/lionel-messi/', headers = {'User-Agent':'Mozilla/5.0'})\n",
    "soup = bs(r.content, 'html.parser')\n",
    "abilities = ['TECHNICAL', 'MENTAL' , 'PHYSICAL']\n",
    "\n",
    "def get_abilities(soup, keyword):\n",
    "    table = soup.select_one('div:has(h3:contains(\"' + ability + '\")) ~ div > table')\n",
    "    d = {item.select_one('td:nth-child(odd)').text:item.select_one('td:nth-child(even)').text for item in table.select('tr')}\n",
    "    return d\n",
    "\n",
    "results = {}\n",
    "\n",
    "for ability in abilities:\n",
    "    results[ability] = get_abilities(soup, ability)\n",
    "    \n",
    "# Get Teammates URLs\n",
    "\n",
    "table = soup.select_one('div:has(h3:contains(\"' + 'Teammates' + '\")) ~ div > table')\n",
    "# print('table', table.find_all('a')['href'])\n",
    "for a in table.find_all('a', href=True):\n",
    "    print(\"Found the URL:\", a['href'])"
   ]
  },
  {
   "cell_type": "code",
   "execution_count": null,
   "metadata": {},
   "outputs": [],
   "source": []
  }
 ],
 "metadata": {
  "kernelspec": {
   "display_name": "Python 3",
   "language": "python",
   "name": "python3"
  },
  "language_info": {
   "codemirror_mode": {
    "name": "ipython",
    "version": 3
   },
   "file_extension": ".py",
   "mimetype": "text/x-python",
   "name": "python",
   "nbconvert_exporter": "python",
   "pygments_lexer": "ipython3",
   "version": "3.7.2"
  }
 },
 "nbformat": 4,
 "nbformat_minor": 2
}

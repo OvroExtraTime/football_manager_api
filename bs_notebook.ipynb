{
 "cells": [
  {
   "cell_type": "code",
   "execution_count": 1,
   "metadata": {},
   "outputs": [],
   "source": [
    "from bs4 import BeautifulSoup as bs\n",
    "import requests\n",
    "import pandas as pd\n",
    "from datetime import datetime, date\n",
    "import fm_data_scraper as scraper"
   ]
  },
  {
   "cell_type": "code",
   "execution_count": 2,
   "metadata": {},
   "outputs": [
    {
     "data": {
      "text/plain": [
       "{'goalkeeping': {'Aerial Reach': 10,\n",
       "  'Command Of Area': 15,\n",
       "  'Communication': 14,\n",
       "  'Eccentricity': 4,\n",
       "  'First Touch': 8,\n",
       "  'Handling': 12,\n",
       "  'Kicking': 13,\n",
       "  'One On Ones': 16,\n",
       "  'Passing': 9,\n",
       "  'Reflexes': 19,\n",
       "  'Rushing Out': 12,\n",
       "  'Tendency To Punch': 16,\n",
       "  'Throwing': 15},\n",
       " 'mental': {'Aggression': 11,\n",
       "  'Anticipation': 15,\n",
       "  'Bravery': 15,\n",
       "  'Composure': 13,\n",
       "  'Concentration': 18,\n",
       "  'Decisions': 15,\n",
       "  'Determination': 16,\n",
       "  'Flair': 8,\n",
       "  'Leadership': 12,\n",
       "  'Off The Ball': 1,\n",
       "  'Positioning': 14,\n",
       "  'Teamwork': 15,\n",
       "  'Vision': 8,\n",
       "  'Work Rate': 15},\n",
       " 'physical': {'Acceleration': 12,\n",
       "  'Agility': 18,\n",
       "  'Balance': 14,\n",
       "  'Jumping Reach': 12,\n",
       "  'Natural Fitness': 17,\n",
       "  'Pace': 14,\n",
       "  'Stamina': 14,\n",
       "  'Strength': 13}}"
      ]
     },
     "execution_count": 2,
     "metadata": {},
     "output_type": "execute_result"
    }
   ],
   "source": [
    "scraper.get_abilities('https://fmdataba.com/19/p/578/keylor-navas/', True)"
   ]
  },
  {
   "cell_type": "code",
   "execution_count": 3,
   "metadata": {},
   "outputs": [],
   "source": [
    "# parse player urls on a single league\n",
    "\n",
    "# url = 'https://fmdataba.com/19/l/4/premier-league/best-players/'\n",
    "\n",
    "urls = ['https://fmdataba.com/19/l/4/premier-league/best-players/']\n",
    "\n",
    "with open('fm_urls.txt', 'w') as f:\n",
    "    for url in urls:\n",
    "        for i in range(12):\n",
    "            url2 = url + str(i)\n",
    "            r = requests.get(url2, headers = {'User-Agent':'Mozilla/5.0'})\n",
    "            soup = bs(r.content, 'html.parser')\n",
    "            rows = soup.find(\"table\").find(\"tbody\").find_all(\"tr\")\n",
    "            for r in rows:\n",
    "                if r.find_all('a', href=True):\n",
    "                    f.write(r.find_all('a', href=True)[1]['href'] + '\\n')"
   ]
  },
  {
   "cell_type": "code",
   "execution_count": 4,
   "metadata": {},
   "outputs": [],
   "source": [
    "test_data = scraper.get_profile_data('https://fmdataba.com/19/p/4592/son-heung-min/')"
   ]
  },
  {
   "cell_type": "code",
   "execution_count": 5,
   "metadata": {},
   "outputs": [],
   "source": [
    "test_data['abilities'] = scraper.get_abilities('https://fmdataba.com/19/p/4592/son-heung-min/')"
   ]
  },
  {
   "cell_type": "code",
   "execution_count": 6,
   "metadata": {},
   "outputs": [
    {
     "data": {
      "text/plain": [
       "{'profile_img': 'https://fmdataba.com/images/p/4592.png',\n",
       " 'name': 'Son Heung-Min ',\n",
       " 'birth_date': '8/7/1992',\n",
       " 'nation': 'South Korea KOR',\n",
       " 'position': 'M (R), AM (RL), ST (C)',\n",
       " 'foot': 'Either',\n",
       " 'abilities': {'technical': {'Corners': 11,\n",
       "   'Crossing': 13,\n",
       "   'Dribbling': 15,\n",
       "   'Finishing': 16,\n",
       "   'First Touch': 12,\n",
       "   'Free Kick': 10,\n",
       "   'Heading': 11,\n",
       "   'Long Shots': 16,\n",
       "   'Long Throws': 6,\n",
       "   'Marking': 5,\n",
       "   'Passing': 12,\n",
       "   'Penalty Taking': 13,\n",
       "   'Tackling': 6,\n",
       "   'Technique': 15},\n",
       "  'mental': {'Aggression': 8,\n",
       "   'Anticipation': 13,\n",
       "   'Bravery': 6,\n",
       "   'Composure': 13,\n",
       "   'Concentration': 11,\n",
       "   'Decisions': 13,\n",
       "   'Determination': 13,\n",
       "   'Flair': 13,\n",
       "   'Leadership': 5,\n",
       "   'Off The Ball': 17,\n",
       "   'Positioning': 7,\n",
       "   'Teamwork': 15,\n",
       "   'Vision': 12,\n",
       "   'Work Rate': 16},\n",
       "  'physical': {'Acceleration': 15,\n",
       "   'Agility': 14,\n",
       "   'Balance': 11,\n",
       "   'Jumping Reach': 10,\n",
       "   'Natural Fitness': 16,\n",
       "   'Pace': 15,\n",
       "   'Stamina': 16,\n",
       "   'Strength': 10}}}"
      ]
     },
     "execution_count": 6,
     "metadata": {},
     "output_type": "execute_result"
    }
   ],
   "source": [
    "test_data"
   ]
  }
 ],
 "metadata": {
  "kernelspec": {
   "display_name": "Python 3",
   "language": "python",
   "name": "python3"
  },
  "language_info": {
   "codemirror_mode": {
    "name": "ipython",
    "version": 3
   },
   "file_extension": ".py",
   "mimetype": "text/x-python",
   "name": "python",
   "nbconvert_exporter": "python",
   "pygments_lexer": "ipython3",
   "version": "3.7.1"
  }
 },
 "nbformat": 4,
 "nbformat_minor": 2
}

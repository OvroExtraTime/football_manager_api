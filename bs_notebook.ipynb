{
 "cells": [
  {
   "cell_type": "code",
   "execution_count": 2,
   "metadata": {},
   "outputs": [],
   "source": [
    "from bs4 import BeautifulSoup as bs\n",
    "import requests\n",
    "url = 'https://fmdataba.com/19/p/1165/lionel-messi/'"
   ]
  },
  {
   "cell_type": "code",
   "execution_count": 80,
   "metadata": {
    "scrolled": true
   },
   "outputs": [
    {
     "name": "stdout",
     "output_type": "stream",
     "text": [
      "Found the URL: https://fmdataba.com/19/p/1170/luis-suarez/\n",
      "Found the URL: https://fmdataba.com/19/p/1154/philippe-coutinho/\n",
      "Found the URL: https://fmdataba.com/19/p/1156/ousmane-dembele/\n",
      "Found the URL: https://fmdataba.com/19/p/1134/sergio-busquets/\n",
      "Found the URL: https://fmdataba.com/19/p/1112/gerard-pique/\n",
      "Found the URL: https://fmdataba.com/19/p/1140/ivan-rakitic/\n",
      "Found the URL: https://fmdataba.com/19/p/1124/sergi-roberto/\n"
     ]
    }
   ],
   "source": [
    "import pandas as pd\n",
    "\n",
    "r = requests.get('https://fmdataba.com/19/p/1165/lionel-messi/', headers = {'User-Agent':'Mozilla/5.0'})\n",
    "soup = bs(r.content, 'html.parser')\n",
    "abilities = ['TECHNICAL', 'MENTAL' , 'PHYSICAL']\n",
    "\n",
    "def get_abilities(soup, keyword):\n",
    "    table = soup.select_one('div:has(h3:contains(\"' + ability + '\")) ~ div > table')\n",
    "    d = {item.select_one('td:nth-child(odd)').text:item.select_one('td:nth-child(even)').text for item in table.select('tr')}\n",
    "    return d\n",
    "\n",
    "results = {}\n",
    "\n",
    "for ability in abilities:\n",
    "    results[ability] = get_abilities(soup, ability)\n",
    "    \n",
    "# Get Teammates URLs\n",
    "\n",
    "table = soup.select_one('div:has(h3:contains(\"' + 'Teammates' + '\")) ~ div > table')\n",
    "# print('table', table.find_all('a')['href'])\n",
    "for a in table.find_all('a', href=True):\n",
    "    print(\"Found the URL:\", a['href'])"
   ]
  },
  {
   "cell_type": "code",
   "execution_count": 106,
   "metadata": {},
   "outputs": [
    {
     "name": "stdout",
     "output_type": "stream",
     "text": [
      "0 https://fmdataba.com/19/p/3771/eden-hazard/\n",
      "1 https://fmdataba.com/19/p/4262/kevin-de-bruyne/\n",
      "2 https://fmdataba.com/19/p/4599/harry-kane/\n",
      "3 https://fmdataba.com/19/p/4190/mohamed-salah/\n",
      "5 https://fmdataba.com/19/p/4278/sergio-aguero/\n",
      "6 https://fmdataba.com/19/p/4588/christian-eriksen/\n",
      "7 https://fmdataba.com/19/p/4189/roberto-firmino/\n",
      "8 https://fmdataba.com/19/p/4270/david-silva/\n",
      "9 https://fmdataba.com/19/p/4348/paul-pogba/\n",
      "10 https://fmdataba.com/19/p/3364/pierre-emerick-aubameyang/\n",
      "11 https://fmdataba.com/19/p/3744/n-golo-kante/\n",
      "12 https://fmdataba.com/19/p/4269/leroy-sane/\n",
      "13 https://fmdataba.com/19/p/4271/raheem-sterling/\n",
      "14 https://fmdataba.com/19/p/4127/virgil-van-dijk/\n",
      "15 https://fmdataba.com/19/p/4187/sadio-mane/\n",
      "16 https://fmdataba.com/19/p/4586/dele-alli/\n",
      "17 https://fmdataba.com/19/p/4292/david-de-gea/\n",
      "18 https://fmdataba.com/19/p/4267/riyad-mahrez/\n",
      "19 https://fmdataba.com/19/p/4211/vincent-kompany/\n",
      "21 https://fmdataba.com/19/p/3357/mesut-ozil/\n",
      "22 https://fmdataba.com/19/p/3770/willian/\n",
      "23 https://fmdataba.com/19/p/3852/wilfried-zaha/\n",
      "24 https://fmdataba.com/19/p/4253/bernardo-silva/\n",
      "25 https://fmdataba.com/19/p/4369/anthony-martial/\n",
      "26 https://fmdataba.com/19/p/4370/marcus-rashford/\n",
      "27 https://fmdataba.com/19/p/4541/toby-alderweireld/\n",
      "28 https://fmdataba.com/19/p/3733/marcos-alonso/\n",
      "29 https://fmdataba.com/19/p/3745/mateo-kovacic/\n",
      "30 https://fmdataba.com/19/p/4111/alisson-becker/\n",
      "32 https://fmdataba.com/19/p/3723/cesar-azpilicueta/\n",
      "33 https://fmdataba.com/19/p/4556/jan-vertonghen/\n",
      "34 https://fmdataba.com/19/p/4287/gabriel-jesus/\n",
      "35 https://fmdataba.com/19/p/4592/son-heung-min/\n",
      "36 https://fmdataba.com/19/p/3777/pedro/\n",
      "37 https://fmdataba.com/19/p/4171/adam-lallana/\n",
      "38 https://fmdataba.com/19/p/3743/jorginho/\n",
      "39 https://fmdataba.com/19/p/4047/harry-maguire/\n",
      "40 https://fmdataba.com/19/p/3351/henrikh-mkhitaryan/\n",
      "41 https://fmdataba.com/19/p/3361/alexandre-lacazette/\n",
      "42 https://fmdataba.com/19/p/4354/jesse-lingard/\n",
      "43 https://fmdataba.com/19/p/4371/alexis-sanchez/\n",
      "44 https://fmdataba.com/19/p/4372/romelu-lukaku/\n",
      "45 https://fmdataba.com/19/p/4139/fabinho/\n",
      "46 https://fmdataba.com/19/p/4156/jordan-henderson/\n",
      "47 https://fmdataba.com/19/p/3334/lucas-torreira/\n",
      "48 https://fmdataba.com/19/p/4158/naby-ke-ta/\n",
      "49 https://fmdataba.com/19/p/4243/ilkay-gundogan/\n",
      "50 https://fmdataba.com/19/p/4199/ederson/\n",
      "51 https://fmdataba.com/19/p/4537/hugo-lloris/\n",
      "52 https://fmdataba.com/19/p/4749/andriy-yarmolenko/\n"
     ]
    }
   ],
   "source": [
    "url2 = 'https://fmdataba.com/19/l/4/premier-league/best-players/'\n",
    "\n",
    "r = requests.get(url2, headers = {'User-Agent':'Mozilla/5.0'})\n",
    "soup = bs(r.content, 'html.parser')\n",
    "rows = soup.find(\"table\").find(\"tbody\").find_all(\"tr\")\n",
    "# rows[0].find_all('a', href=True)\n",
    "\n",
    "for i, a in enumerate(rows):\n",
    "    if a.find_all('a', href=True):\n",
    "        print(i, a.find_all('a', href=True)[1]['href'])"
   ]
  },
  {
   "cell_type": "code",
   "execution_count": 3,
   "metadata": {},
   "outputs": [],
   "source": [
    "# parse player urls on a single league\n",
    "\n",
    "# url = 'https://fmdataba.com/19/l/4/premier-league/best-players/'\n",
    "\n",
    "urls = ['https://fmdataba.com/19/l/4/premier-league/best-players/',\n",
    "        'https://fmdataba.com/19/l/11/championship/best-players/',\n",
    "       'https://fmdataba.com/19/l/12/league-one/best-players/',\n",
    "       'https://fmdataba.com/19/l/13/league-two/best-players/',\n",
    "        'https://fmdataba.com/19/l/28/national-league/best-players/',\n",
    "       'https://fmdataba.com/19/l/1/la-liga/best-players/',\n",
    "       'https://fmdataba.com/19/l/15/segunda-division/best-players/',\n",
    "       'https://fmdataba.com/19/l/17/serie-a/best-players/',\n",
    "       'https://fmdataba.com/19/l/31/serie-b/best-players/',\n",
    "       'https://fmdataba.com/19/l/9/ligue-1/best-players/',\n",
    "       'https://fmdataba.com/19/l/22/ligue-2/best-players/',\n",
    "       'https://fmdataba.com/19/l/6/bundesliga/best-players/',\n",
    "       'https://fmdataba.com/19/l/20/2-bundesliga/best-players/']\n",
    "\n",
    "with open('fm_urls.txt', 'w') as f:\n",
    "    for url in urls:\n",
    "        for i in range(12):\n",
    "            url2 = url + str(i)\n",
    "            r = requests.get(url2, headers = {'User-Agent':'Mozilla/5.0'})\n",
    "            soup = bs(r.content, 'html.parser')\n",
    "            rows = soup.find(\"table\").find(\"tbody\").find_all(\"tr\")\n",
    "            for r in rows:\n",
    "                if r.find_all('a', href=True):\n",
    "                    f.write(r.find_all('a', href=True)[1]['href'] + '\\n')"
   ]
  },
  {
   "cell_type": "code",
   "execution_count": null,
   "metadata": {},
   "outputs": [],
   "source": []
  }
 ],
 "metadata": {
  "kernelspec": {
   "display_name": "Python 3",
   "language": "python",
   "name": "python3"
  },
  "language_info": {
   "codemirror_mode": {
    "name": "ipython",
    "version": 3
   },
   "file_extension": ".py",
   "mimetype": "text/x-python",
   "name": "python",
   "nbconvert_exporter": "python",
   "pygments_lexer": "ipython3",
   "version": "3.7.2"
  }
 },
 "nbformat": 4,
 "nbformat_minor": 2
}

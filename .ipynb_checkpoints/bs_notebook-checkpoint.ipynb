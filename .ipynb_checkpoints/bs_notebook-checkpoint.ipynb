{
 "cells": [
  {
   "cell_type": "code",
   "execution_count": 8,
   "metadata": {},
   "outputs": [],
   "source": [
    "from bs4 import BeautifulSoup as bs\n",
    "import requests\n",
    "import pandas as pd"
   ]
  },
  {
   "cell_type": "code",
   "execution_count": 16,
   "metadata": {
    "scrolled": true
   },
   "outputs": [
    {
     "name": "stdout",
     "output_type": "stream",
     "text": [
      "{'TECHNICAL': {'Corners': '15', 'Crossing': '15', 'Dribbling': '20', 'Finishing': '20', 'First Touch': '19', 'Free Kick': '19', 'Heading': '10', 'Long Shots': '17', 'Long Throws': '4', 'Marking': '4', 'Passing': '20', 'Penalty Taking': '17', 'Tackling': '7', 'Technique': '20'}, 'GOALKEEPING': {}, 'MENTAL': {'Aggression': '7', 'Anticipation': '19', 'Bravery': '10', 'Composure': '18', 'Concentration': '13', 'Decisions': '20', 'Determination': '20', 'Flair': '20', 'Leadership': '14', 'Off The Ball': '16', 'Positioning': '5', 'Teamwork': '14', 'Vision': '20', 'Work Rate': '7'}, 'PHYSICAL': {'Acceleration': '18', 'Agility': '20', 'Balance': '20', 'Jumping Reach': '6', 'Natural Fitness': '14', 'Pace': '15', 'Stamina': '13', 'Strength': '9'}}\n"
     ]
    }
   ],
   "source": [
    "r = requests.get('https://fmdataba.com/19/p/1165/lionel-messi/', headers = {'User-Agent':'Mozilla/5.0'})\n",
    "soup = bs(r.content, 'html.parser')\n",
    "abilities = ['TECHNICAL', 'GOALKEEPING', 'MENTAL', 'PHYSICAL']\n",
    "\n",
    "def get_abilities(soup, keyword):\n",
    "    table = soup.select_one('div:has(h3:contains(\"' + ability + '\")) ~ div > table')\n",
    "    if table:\n",
    "        d = {item.select_one('td:nth-child(odd)').text:item.select_one('td:nth-child(even)').text for item in table.select('tr')}\n",
    "        return d\n",
    "    \n",
    "results = {}\n",
    "\n",
    "for ability in abilities:\n",
    "    stats = get_abilities(soup, ability)\n",
    "    results[ability] = stats if stats else {}\n",
    "\n",
    "print(results)\n",
    "# Get Teammates URLs\n",
    "\n",
    "#table = soup.select_one('div:has(h3:contains(\"' + 'Teammates' + '\")) ~ div > table')\n",
    "# print('table', table.find_all('a')['href'])\n",
    "#for a in table.find_all('a', href=True):\n",
    "#    print(\"Found the URL:\", a['href'])"
   ]
  },
  {
   "cell_type": "code",
   "execution_count": 106,
   "metadata": {},
   "outputs": [
    {
     "name": "stdout",
     "output_type": "stream",
     "text": [
      "0 https://fmdataba.com/19/p/3771/eden-hazard/\n",
      "1 https://fmdataba.com/19/p/4262/kevin-de-bruyne/\n",
      "2 https://fmdataba.com/19/p/4599/harry-kane/\n",
      "3 https://fmdataba.com/19/p/4190/mohamed-salah/\n",
      "5 https://fmdataba.com/19/p/4278/sergio-aguero/\n",
      "6 https://fmdataba.com/19/p/4588/christian-eriksen/\n",
      "7 https://fmdataba.com/19/p/4189/roberto-firmino/\n",
      "8 https://fmdataba.com/19/p/4270/david-silva/\n",
      "9 https://fmdataba.com/19/p/4348/paul-pogba/\n",
      "10 https://fmdataba.com/19/p/3364/pierre-emerick-aubameyang/\n",
      "11 https://fmdataba.com/19/p/3744/n-golo-kante/\n",
      "12 https://fmdataba.com/19/p/4269/leroy-sane/\n",
      "13 https://fmdataba.com/19/p/4271/raheem-sterling/\n",
      "14 https://fmdataba.com/19/p/4127/virgil-van-dijk/\n",
      "15 https://fmdataba.com/19/p/4187/sadio-mane/\n",
      "16 https://fmdataba.com/19/p/4586/dele-alli/\n",
      "17 https://fmdataba.com/19/p/4292/david-de-gea/\n",
      "18 https://fmdataba.com/19/p/4267/riyad-mahrez/\n",
      "19 https://fmdataba.com/19/p/4211/vincent-kompany/\n",
      "21 https://fmdataba.com/19/p/3357/mesut-ozil/\n",
      "22 https://fmdataba.com/19/p/3770/willian/\n",
      "23 https://fmdataba.com/19/p/3852/wilfried-zaha/\n",
      "24 https://fmdataba.com/19/p/4253/bernardo-silva/\n",
      "25 https://fmdataba.com/19/p/4369/anthony-martial/\n",
      "26 https://fmdataba.com/19/p/4370/marcus-rashford/\n",
      "27 https://fmdataba.com/19/p/4541/toby-alderweireld/\n",
      "28 https://fmdataba.com/19/p/3733/marcos-alonso/\n",
      "29 https://fmdataba.com/19/p/3745/mateo-kovacic/\n",
      "30 https://fmdataba.com/19/p/4111/alisson-becker/\n",
      "32 https://fmdataba.com/19/p/3723/cesar-azpilicueta/\n",
      "33 https://fmdataba.com/19/p/4556/jan-vertonghen/\n",
      "34 https://fmdataba.com/19/p/4287/gabriel-jesus/\n",
      "35 https://fmdataba.com/19/p/4592/son-heung-min/\n",
      "36 https://fmdataba.com/19/p/3777/pedro/\n",
      "37 https://fmdataba.com/19/p/4171/adam-lallana/\n",
      "38 https://fmdataba.com/19/p/3743/jorginho/\n",
      "39 https://fmdataba.com/19/p/4047/harry-maguire/\n",
      "40 https://fmdataba.com/19/p/3351/henrikh-mkhitaryan/\n",
      "41 https://fmdataba.com/19/p/3361/alexandre-lacazette/\n",
      "42 https://fmdataba.com/19/p/4354/jesse-lingard/\n",
      "43 https://fmdataba.com/19/p/4371/alexis-sanchez/\n",
      "44 https://fmdataba.com/19/p/4372/romelu-lukaku/\n",
      "45 https://fmdataba.com/19/p/4139/fabinho/\n",
      "46 https://fmdataba.com/19/p/4156/jordan-henderson/\n",
      "47 https://fmdataba.com/19/p/3334/lucas-torreira/\n",
      "48 https://fmdataba.com/19/p/4158/naby-ke-ta/\n",
      "49 https://fmdataba.com/19/p/4243/ilkay-gundogan/\n",
      "50 https://fmdataba.com/19/p/4199/ederson/\n",
      "51 https://fmdataba.com/19/p/4537/hugo-lloris/\n",
      "52 https://fmdataba.com/19/p/4749/andriy-yarmolenko/\n"
     ]
    }
   ],
   "source": [
    "url2 = 'https://fmdataba.com/19/l/4/premier-league/best-players/'\n",
    "\n",
    "r = requests.get(url2, headers = {'User-Agent':'Mozilla/5.0'})\n",
    "soup = bs(r.content, 'html.parser')\n",
    "rows = soup.find(\"table\").find(\"tbody\").find_all(\"tr\")\n",
    "# rows[0].find_all('a', href=True)\n",
    "\n",
    "for i, a in enumerate(rows):\n",
    "    if a.find_all('a', href=True):\n",
    "        print(i, a.find_all('a', href=True)[1]['href'])"
   ]
  },
  {
   "cell_type": "code",
   "execution_count": 3,
   "metadata": {},
   "outputs": [],
   "source": [
    "# parse player urls on a single league\n",
    "\n",
    "# url = 'https://fmdataba.com/19/l/4/premier-league/best-players/'\n",
    "\n",
    "urls = ['']\n",
    "\n",
    "with open('fm_urls.txt', 'w') as f:\n",
    "    for url in urls:\n",
    "        for i in range(12):\n",
    "            url2 = url + str(i)\n",
    "            r = requests.get(url2, headers = {'User-Agent':'Mozilla/5.0'})\n",
    "            soup = bs(r.content, 'html.parser')\n",
    "            rows = soup.find(\"table\").find(\"tbody\").find_all(\"tr\")\n",
    "            for r in rows:\n",
    "                if r.find_all('a', href=True):\n",
    "                    f.write(r.find_all('a', href=True)[1]['href'] + '\\n')"
   ]
  },
  {
   "cell_type": "code",
   "execution_count": 9,
   "metadata": {},
   "outputs": [],
   "source": [
    "url = 'https://fmdataba.com/19/p/22015/cristiano-ronaldo/'\n",
    "page = requests.get(url, headers={'User-Agent':'Mozilla/5.0'})\n",
    "\n",
    "tables = pd.read_html(page.text)\n",
    "all_data = {}\n",
    "for idx, name in [(2, 'TECHNICAL'), (3, 'MENTAL'), (4, 'PHYSICAL')]:\n",
    "    tbl = tables[idx]\n",
    "    data = {r[0]: r[1] for _, r in tbl.iterrows()}\n",
    "    all_data[name] = data"
   ]
  },
  {
   "cell_type": "code",
   "execution_count": 28,
   "metadata": {},
   "outputs": [
    {
     "data": {
      "text/html": [
       "<div>\n",
       "<style scoped>\n",
       "    .dataframe tbody tr th:only-of-type {\n",
       "        vertical-align: middle;\n",
       "    }\n",
       "\n",
       "    .dataframe tbody tr th {\n",
       "        vertical-align: top;\n",
       "    }\n",
       "\n",
       "    .dataframe thead th {\n",
       "        text-align: right;\n",
       "    }\n",
       "</style>\n",
       "<table border=\"1\" class=\"dataframe\">\n",
       "  <thead>\n",
       "    <tr style=\"text-align: right;\">\n",
       "      <th></th>\n",
       "      <th>0</th>\n",
       "      <th>1</th>\n",
       "    </tr>\n",
       "  </thead>\n",
       "  <tbody>\n",
       "    <tr>\n",
       "      <th>0</th>\n",
       "      <td>NaN</td>\n",
       "      <td>NaN</td>\n",
       "    </tr>\n",
       "    <tr>\n",
       "      <th>1</th>\n",
       "      <td>Overall</td>\n",
       "      <td>16</td>\n",
       "    </tr>\n",
       "    <tr>\n",
       "      <th>2</th>\n",
       "      <td>Attacking</td>\n",
       "      <td>17</td>\n",
       "    </tr>\n",
       "    <tr>\n",
       "      <th>3</th>\n",
       "      <td>Defending</td>\n",
       "      <td>12</td>\n",
       "    </tr>\n",
       "    <tr>\n",
       "      <th>4</th>\n",
       "      <td>Technical</td>\n",
       "      <td>17</td>\n",
       "    </tr>\n",
       "    <tr>\n",
       "      <th>5</th>\n",
       "      <td>Mental</td>\n",
       "      <td>15</td>\n",
       "    </tr>\n",
       "    <tr>\n",
       "      <th>6</th>\n",
       "      <td>Physical</td>\n",
       "      <td>16</td>\n",
       "    </tr>\n",
       "    <tr>\n",
       "      <th>7</th>\n",
       "      <td>3.2 average vote / 120 people vote. document.a...</td>\n",
       "      <td>NaN</td>\n",
       "    </tr>\n",
       "    <tr>\n",
       "      <th>8</th>\n",
       "      <td>Age</td>\n",
       "      <td>(5/2/1985) 33 years old (now 34)</td>\n",
       "    </tr>\n",
       "    <tr>\n",
       "      <th>9</th>\n",
       "      <td>Height</td>\n",
       "      <td>187 cm / 6'1''</td>\n",
       "    </tr>\n",
       "    <tr>\n",
       "      <th>10</th>\n",
       "      <td>Weight</td>\n",
       "      <td>83 kg</td>\n",
       "    </tr>\n",
       "    <tr>\n",
       "      <th>11</th>\n",
       "      <td>Nation</td>\n",
       "      <td>PortugalMain 154 caps / 85 goalsYouth 10 caps ...</td>\n",
       "    </tr>\n",
       "    <tr>\n",
       "      <th>12</th>\n",
       "      <td>League</td>\n",
       "      <td>Serie A</td>\n",
       "    </tr>\n",
       "    <tr>\n",
       "      <th>13</th>\n",
       "      <td>Club</td>\n",
       "      <td>Juventus</td>\n",
       "    </tr>\n",
       "    <tr>\n",
       "      <th>14</th>\n",
       "      <td>Value</td>\n",
       "      <td>€ 75.0M</td>\n",
       "    </tr>\n",
       "    <tr>\n",
       "      <th>15</th>\n",
       "      <td>Wage</td>\n",
       "      <td>€ 57,350,000 p/a</td>\n",
       "    </tr>\n",
       "    <tr>\n",
       "      <th>16</th>\n",
       "      <td>Status</td>\n",
       "      <td>Key Player</td>\n",
       "    </tr>\n",
       "    <tr>\n",
       "      <th>17</th>\n",
       "      <td>Contrat</td>\n",
       "      <td>30/6/2022</td>\n",
       "    </tr>\n",
       "    <tr>\n",
       "      <th>18</th>\n",
       "      <td>Pre. Foot</td>\n",
       "      <td>Either</td>\n",
       "    </tr>\n",
       "    <tr>\n",
       "      <th>19</th>\n",
       "      <td>NaN</td>\n",
       "      <td>NaN</td>\n",
       "    </tr>\n",
       "    <tr>\n",
       "      <th>20</th>\n",
       "      <td>NaN</td>\n",
       "      <td>NaN</td>\n",
       "    </tr>\n",
       "    <tr>\n",
       "      <th>21</th>\n",
       "      <td>Position</td>\n",
       "      <td>AM (RL), ST (C)</td>\n",
       "    </tr>\n",
       "  </tbody>\n",
       "</table>\n",
       "</div>"
      ],
      "text/plain": [
       "                                                    0  \\\n",
       "0                                                 NaN   \n",
       "1                                             Overall   \n",
       "2                                           Attacking   \n",
       "3                                           Defending   \n",
       "4                                           Technical   \n",
       "5                                              Mental   \n",
       "6                                            Physical   \n",
       "7   3.2 average vote / 120 people vote. document.a...   \n",
       "8                                                 Age   \n",
       "9                                              Height   \n",
       "10                                             Weight   \n",
       "11                                             Nation   \n",
       "12                                             League   \n",
       "13                                               Club   \n",
       "14                                              Value   \n",
       "15                                               Wage   \n",
       "16                                             Status   \n",
       "17                                            Contrat   \n",
       "18                                          Pre. Foot   \n",
       "19                                                NaN   \n",
       "20                                                NaN   \n",
       "21                                           Position   \n",
       "\n",
       "                                                    1  \n",
       "0                                                 NaN  \n",
       "1                                                  16  \n",
       "2                                                  17  \n",
       "3                                                  12  \n",
       "4                                                  17  \n",
       "5                                                  15  \n",
       "6                                                  16  \n",
       "7                                                 NaN  \n",
       "8                    (5/2/1985) 33 years old (now 34)  \n",
       "9                                      187 cm / 6'1''  \n",
       "10                                              83 kg  \n",
       "11  PortugalMain 154 caps / 85 goalsYouth 10 caps ...  \n",
       "12                                            Serie A  \n",
       "13                                           Juventus  \n",
       "14                                            € 75.0M  \n",
       "15                                   € 57,350,000 p/a  \n",
       "16                                         Key Player  \n",
       "17                                          30/6/2022  \n",
       "18                                             Either  \n",
       "19                                                NaN  \n",
       "20                                                NaN  \n",
       "21                                    AM (RL), ST (C)  "
      ]
     },
     "execution_count": 28,
     "metadata": {},
     "output_type": "execute_result"
    }
   ],
   "source": [
    "tables[0]"
   ]
  },
  {
   "cell_type": "code",
   "execution_count": 21,
   "metadata": {},
   "outputs": [
    {
     "data": {
      "text/plain": [
       "'5/2/1985'"
      ]
     },
     "execution_count": 21,
     "metadata": {},
     "output_type": "execute_result"
    }
   ],
   "source": [
    "tables[0][1][8].split(' ')[0].strip('()')"
   ]
  },
  {
   "cell_type": "code",
   "execution_count": 24,
   "metadata": {},
   "outputs": [
    {
     "data": {
      "text/plain": [
       "'Portugal'"
      ]
     },
     "execution_count": 24,
     "metadata": {},
     "output_type": "execute_result"
    }
   ],
   "source": [
    "idx = tables[0][1][11].index('Main')\n",
    "tables[0][1][11][:idx]"
   ]
  },
  {
   "cell_type": "code",
   "execution_count": 25,
   "metadata": {},
   "outputs": [
    {
     "data": {
      "text/plain": [
       "'AM (RL), ST (C)'"
      ]
     },
     "execution_count": 25,
     "metadata": {},
     "output_type": "execute_result"
    }
   ],
   "source": [
    "tables[0][1][21]"
   ]
  },
  {
   "cell_type": "code",
   "execution_count": 26,
   "metadata": {},
   "outputs": [
    {
     "data": {
      "text/plain": [
       "'Either'"
      ]
     },
     "execution_count": 26,
     "metadata": {},
     "output_type": "execute_result"
    }
   ],
   "source": [
    "tables[0][1][18]"
   ]
  },
  {
   "cell_type": "code",
   "execution_count": 33,
   "metadata": {},
   "outputs": [
    {
     "data": {
      "text/plain": [
       "'https://fmdataba.com/images/p/22015.png'"
      ]
     },
     "execution_count": 33,
     "metadata": {},
     "output_type": "execute_result"
    }
   ],
   "source": [
    "r = requests.get(url, headers = {'User-Agent':'Mozilla/5.0'})\n",
    "soup = bs(r.content, 'html.parser')\n",
    "rows = soup.find(\"table\").find(\"tbody\").find_all(\"tr\")\n",
    "# rows[0].find_all('a', href=True)\n",
    "rows[0].findAll('img')[0]['src']"
   ]
  },
  {
   "cell_type": "code",
   "execution_count": null,
   "metadata": {},
   "outputs": [],
   "source": []
  }
 ],
 "metadata": {
  "kernelspec": {
   "display_name": "Python 3",
   "language": "python",
   "name": "python3"
  },
  "language_info": {
   "codemirror_mode": {
    "name": "ipython",
    "version": 3
   },
   "file_extension": ".py",
   "mimetype": "text/x-python",
   "name": "python",
   "nbconvert_exporter": "python",
   "pygments_lexer": "ipython3",
   "version": "3.7.2"
  }
 },
 "nbformat": 4,
 "nbformat_minor": 2
}
